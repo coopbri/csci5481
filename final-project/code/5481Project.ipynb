{
 "cells": [
  {
   "cell_type": "markdown",
   "metadata": {},
   "source": [
    "<center><h1>CSCI 5481 Final Project</h1>\n",
    "    <h3>Brian Cooper</h3>\n",
    "</center>\n",
    "\n",
    "<hr>\n",
    "<br>"
   ]
  },
  {
   "cell_type": "code",
   "execution_count": 1,
   "metadata": {},
   "outputs": [],
   "source": [
    "%matplotlib inline\n",
    "\n",
    "# Import datasets and SVM methods\n",
    "from data import *\n",
    "from svm import *"
   ]
  },
  {
   "cell_type": "markdown",
   "metadata": {},
   "source": [
    "## Plot Data"
   ]
  },
  {
   "cell_type": "markdown",
   "metadata": {},
   "source": [
    "### __TODO__ Shuffle mouse proteome matrix"
   ]
  },
  {
   "cell_type": "code",
   "execution_count": null,
   "metadata": {},
   "outputs": [],
   "source": [
    "# Ecoli\n",
    "e_sample_total, e_training_input, e_test_input, e_class_labels = ecoli(training_size=40, test_size=10, n=2, PLOT_DATA=True)\n",
    "\n",
    "# Yeast\n",
    "y_sample_total, y_training_input, y_test_input, y_class_labels = yeast(training_size=40, test_size=10, n=2, PLOT_DATA=True)\n",
    "\n",
    "# Mouse\n",
    "m_sample_total, m_training_input, m_test_input, m_class_labels = mouse(training_size=40, test_size=10, n=2, PLOT_DATA=True)"
   ]
  },
  {
   "cell_type": "markdown",
   "metadata": {},
   "source": [
    "## Perform Quantum SVM"
   ]
  },
  {
   "cell_type": "code",
   "execution_count": null,
   "metadata": {},
   "outputs": [],
   "source": [
    "# e_result_quantum = quantum_svm(e_training_input, e_test_input, e_class_labels, 2)\n",
    "# print(\"E. Coli QSVM classification done\")\n",
    "\n",
    "# y_result_quantum = quantum_svm(y_training_input, y_test_input, y_class_labels, 2)\n",
    "# print(\"Yeast QSVM classification done\")\n",
    "\n",
    "# m_result_quantum = quantum_svm(m_training_input, m_test_input, m_class_labels, 2)\n",
    "# print(\"Mouse QSVM classification done\")"
   ]
  },
  {
   "cell_type": "markdown",
   "metadata": {},
   "source": [
    "## Perform Classical SVM"
   ]
  },
  {
   "cell_type": "code",
   "execution_count": null,
   "metadata": {},
   "outputs": [],
   "source": [
    "e_result_classical = classical_svm(e_training_input, e_test_input, e_class_labels, 2)\n",
    "print(\"E. Coli SVM classification done\")\n",
    "\n",
    "y_result_classical = classical_svm(y_training_input, y_test_input, y_class_labels, 2)\n",
    "print(\"Yeast SVM classification done\")\n",
    "\n",
    "m_result_classical = classical_svm(m_training_input, m_test_input, m_class_labels, 2)\n",
    "print(\"Mouse SVM classification done\")"
   ]
  },
  {
   "cell_type": "markdown",
   "metadata": {},
   "source": [
    "## Compare Classical SVM and QSVM"
   ]
  },
  {
   "cell_type": "markdown",
   "metadata": {},
   "source": [
    "I used the accuracy results as a metric to measure the performance."
   ]
  },
  {
   "cell_type": "code",
   "execution_count": null,
   "metadata": {},
   "outputs": [],
   "source": [
    "print(\"   E. Coli Dataset Accuracy   \")\n",
    "print(\"------------------------------\")\n",
    "print(\"SVM (Radial Basis):       {:.2f}\".format(e_result_classical['testing_accuracy']))\n",
    "# print(\"Quantum SVM:              {:.2f}\".format(e_result_quantum['testing_accuracy']))\n",
    "print(\"------------------------------\\n\")\n",
    "\n",
    "print(\"    Yeast Dataset Accuracy    \")\n",
    "print(\"------------------------------\")\n",
    "print(\"SVM (Radial Basis):       {:.2f}\".format(y_result_classical['testing_accuracy']))\n",
    "# print(\"Quantum SVM:              {:.2f}\".format(y_result_quantum['testing_accuracy']))\n",
    "print(\"------------------------------\\n\")\n",
    "\n",
    "print(\"    Mouse Dataset Accuracy    \")\n",
    "print(\"------------------------------\")\n",
    "print(\"SVM (Radial Basis):       {:.2f}\".format(m_result_classical['testing_accuracy']))\n",
    "# print(\"Quantum SVM:              {:.2f}\".format(m_result_quantum['testing_accuracy']))\n",
    "print(\"------------------------------\\n\")"
   ]
  },
  {
   "cell_type": "code",
   "execution_count": null,
   "metadata": {},
   "outputs": [],
   "source": [
    "import matplotlib.pyplot as plt\n",
    "import numpy as np\n",
    "\n",
    "blue = (0.43, 0.65, 0.78, 0.8)\n",
    "purple = (0.43, 0.25, 0.78, 0.8)\n",
    "\n",
    "x = np.arange(2)\n",
    "# e_accuracy = [0.9, 0.6]\n",
    "# y_accuracy = [0.45, 0.43]\n",
    "# m_accuracy = [0.75, 0.9]\n",
    "\n",
    "# Ecoli Accuracy\n",
    "plt.bar(x, e_accuracy, color=[blue, purple])\n",
    "plt.xticks(x, ('SVM', 'QSVM'), fontsize=13.5)\n",
    "plt.title(\"E. Coli Accuracy\", fontsize=18)\n",
    "plt.show()\n",
    "\n",
    "# Yeast Accuracy\n",
    "plt.bar(x, y_accuracy, color=[blue, purple])\n",
    "plt.xticks(x, ('SVM', 'QSVM'), fontsize=13.5)\n",
    "plt.title(\"Yeast Accuracy\", fontsize=18)\n",
    "plt.show()\n",
    "\n",
    "# Mouse Accuracy\n",
    "plt.bar(x, m_accuracy, color=[blue, purple])\n",
    "plt.xticks(x, ('SVM', 'QSVM'), fontsize=13.5)\n",
    "plt.title(\"Mouse Accuracy\", fontsize=18)\n",
    "plt.show()"
   ]
  }
 ],
 "metadata": {
  "kernelspec": {
   "display_name": "Python 3",
   "language": "python",
   "name": "python3"
  },
  "language_info": {
   "codemirror_mode": {
    "name": "ipython",
    "version": 3
   },
   "file_extension": ".py",
   "mimetype": "text/x-python",
   "name": "python",
   "nbconvert_exporter": "python",
   "pygments_lexer": "ipython3",
   "version": "3.7.4"
  }
 },
 "nbformat": 4,
 "nbformat_minor": 4
}
